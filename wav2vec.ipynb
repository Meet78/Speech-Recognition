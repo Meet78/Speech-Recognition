{
 "cells": [
  {
   "cell_type": "code",
   "execution_count": null,
   "id": "fae10533-c39a-4478-b378-a6b4ca9c83a9",
   "metadata": {
    "id": "fae10533-c39a-4478-b378-a6b4ca9c83a9"
   },
   "outputs": [],
   "source": [
    "import pandas as pd\n",
    "from datasets import Dataset\n",
    "from transformers import Wav2Vec2Processor\n",
    "import os\n",
    "import re\n",
    "\n",
    "\n",
    "# Load your CSV file (adjust paths accordingly)\n",
    "df = pd.read_csv(\"cv-valid-train-clean.csv\")\n",
    "\n",
    "# Replace .mp3 with .wav if necessary\n",
    "df[\"filename\"] = df[\"file_name\"].str.replace(\".mp3\", \".wav\", regex=False)\n",
    "\n",
    "df = df[df[\"filename\"].apply(os.path.exists)].reset_index(drop=True)\n",
    "\n",
    "# Randomly sample 2,000 examples\n",
    "df_sampled = df.sample(n=2000, random_state=2).reset_index(drop=True)\n",
    "\n",
    "\n",
    "# Rename columns to match the expected format\n",
    "df_sampled = df_sampled.rename(columns={\"filename\": \"audio\", \"text\": \"sentence\"})\n",
    "\n",
    "# Convert to Hugging Face Dataset\n",
    "dataset = Dataset.from_pandas(df_sampled)\n",
    "\n",
    "# Initialize the processor (we'll use this for both feature extraction and tokenization)\n",
    "processor = Wav2Vec2Processor.from_pretrained(\"facebook/wav2vec2-base\")\n"
   ]
  },
  {
   "cell_type": "code",
   "execution_count": null,
   "id": "dddc2414-43fb-48f8-96d5-b484ae20bd9b",
   "metadata": {
    "id": "dddc2414-43fb-48f8-96d5-b484ae20bd9b"
   },
   "outputs": [],
   "source": [
    "dataset = dataset.train_test_split(test_size=0.1)  # 90% train / 10% test"
   ]
  },
  {
   "cell_type": "code",
   "execution_count": null,
   "id": "57e9d740-ec0c-4d9d-a277-615273a18bd5",
   "metadata": {
    "id": "57e9d740-ec0c-4d9d-a277-615273a18bd5"
   },
   "outputs": [],
   "source": [
    "from transformers import Wav2Vec2Processor, Wav2Vec2ForCTC\n",
    "\n",
    "processor = Wav2Vec2Processor.from_pretrained(\"facebook/wav2vec2-base-960h\")\n",
    "model = Wav2Vec2ForCTC.from_pretrained(\"facebook/wav2vec2-base-960h\").to(\"cuda\")\n"
   ]
  },
  {
   "cell_type": "code",
   "execution_count": null,
   "id": "f7195d12-a6e0-4847-abb3-46e3439663f3",
   "metadata": {
    "id": "f7195d12-a6e0-4847-abb3-46e3439663f3"
   },
   "outputs": [],
   "source": [
    "vocab_dict = processor.tokenizer.get_vocab()\n",
    "\n",
    "# Print vocab size\n",
    "print(f\"Vocab size: {len(vocab_dict)}\")\n",
    "\n",
    "# Print vocab items (sorted by ID for readability)\n",
    "for token, idx in sorted(vocab_dict.items(), key=lambda x: x[1]):\n",
    "    print(f\"{idx}: {token}\")"
   ]
  },
  {
   "cell_type": "code",
   "execution_count": null,
   "id": "4bc82716-ab75-44d9-b645-924df8813065",
   "metadata": {
    "id": "4bc82716-ab75-44d9-b645-924df8813065"
   },
   "outputs": [],
   "source": [
    "import librosa\n",
    "from transformers import Wav2Vec2Processor\n",
    "\n",
    "def preprocess_example(example):\n",
    "    # Load audio\n",
    "    speech_array, _ = librosa.load(example[\"audio\"], sr=16000)\n",
    "\n",
    "    # Extract features\n",
    "    input_values = processor.feature_extractor(\n",
    "        speech_array, sampling_rate=16000, return_tensors=\"pt\"\n",
    "    ).input_values.squeeze()\n",
    "\n",
    "    # Normalize and tokenize the label\n",
    "    text = example[\"sentence\"].upper().replace(\" \", \"|\")  # ✅ default for pretrained is lowercase\n",
    "    with processor.as_target_processor():\n",
    "        labels = processor.tokenizer(text, return_tensors=\"pt\").input_ids.squeeze()\n",
    "\n",
    "    return {\n",
    "        \"input_values\": input_values,\n",
    "        \"labels\": labels\n",
    "    }\n",
    "\n",
    "\n",
    "\n",
    "dataset = dataset.map(\n",
    "    preprocess_example,\n",
    "    remove_columns=[\"audio\", \"sentence\", \"file_name\"],\n",
    "    num_proc=1,\n",
    "    batched=False,\n",
    "    desc=\"Normalizing and Preprocessing\"\n",
    ")\n",
    "\n",
    "\n",
    "\n",
    "\n"
   ]
  },
  {
   "cell_type": "code",
   "execution_count": null,
   "id": "ab867ba5-812a-4eab-807e-7b06738a95ba",
   "metadata": {
    "id": "ab867ba5-812a-4eab-807e-7b06738a95ba"
   },
   "outputs": [],
   "source": [
    "# Print tokenized labels for a few examples\n",
    "for i in range(3):\n",
    "    sample = dataset[\"train\"][i]\n",
    "    print(f\"\\n--- Sample {i} ---\")\n",
    "    print(\"Token IDs:\", sample[\"labels\"])\n",
    "    print(\"Decoded Text:\", processor.tokenizer.decode(sample[\"labels\"], skip_special_tokens=True))\n"
   ]
  },
  {
   "cell_type": "code",
   "execution_count": null,
   "id": "c9b9a5cd-be9c-42bd-9d69-c8965f39c472",
   "metadata": {
    "id": "c9b9a5cd-be9c-42bd-9d69-c8965f39c472"
   },
   "outputs": [],
   "source": [
    "from dataclasses import dataclass\n",
    "from typing import Any, Dict, List, Union\n",
    "import torch\n",
    "\n",
    "@dataclass\n",
    "class DataCollatorCTCWithPadding:\n",
    "    processor: Any\n",
    "    padding: Union[bool, str] = True\n",
    "\n",
    "    def __call__(self, features: List[Dict[str, Any]]) -> Dict[str, torch.Tensor]:\n",
    "        # Separate inputs and labels\n",
    "        input_features = [{\"input_values\": f[\"input_values\"]} for f in features]\n",
    "        label_features = [{\"input_ids\": f[\"labels\"]} for f in features]\n",
    "\n",
    "        # Pad inputs\n",
    "        batch = self.processor.pad(\n",
    "            input_features,\n",
    "            padding=self.padding,\n",
    "            return_tensors=\"pt\"\n",
    "        )\n",
    "\n",
    "        # Pad labels\n",
    "        with self.processor.as_target_processor():\n",
    "            labels_batch = self.processor.pad(\n",
    "                label_features,\n",
    "                padding=self.padding,\n",
    "                return_tensors=\"pt\"\n",
    "            )\n",
    "\n",
    "        # Replace padding with -100 to ignore in loss computation\n",
    "        labels = labels_batch[\"input_ids\"].masked_fill(labels_batch.attention_mask.ne(1), -100)\n",
    "        batch[\"labels\"] = labels\n",
    "\n",
    "        return batch\n"
   ]
  },
  {
   "cell_type": "code",
   "execution_count": null,
   "id": "430e480c-19cc-4845-b0ed-c9e7abc85395",
   "metadata": {
    "id": "430e480c-19cc-4845-b0ed-c9e7abc85395"
   },
   "outputs": [],
   "source": [
    "data_collator = DataCollatorCTCWithPadding(processor=processor, padding=True)"
   ]
  },
  {
   "cell_type": "code",
   "execution_count": null,
   "id": "9ee117cb-6cdf-4dfb-a3d8-233d8ee108be",
   "metadata": {
    "id": "9ee117cb-6cdf-4dfb-a3d8-233d8ee108be"
   },
   "outputs": [],
   "source": [
    "from transformers import Seq2SeqTrainingArguments\n",
    "\n",
    "training_args = Seq2SeqTrainingArguments(\n",
    "    output_dir=\"./wav2vec2-finetuned_f2\",  # Save the model here\n",
    "    per_device_train_batch_size=8,      # Adjust based on GPU memory\n",
    "    per_device_eval_batch_size=8,\n",
    "    eval_strategy=\"steps\",\n",
    "    eval_steps = 100,\n",
    "    save_steps=500,                     # Save every 500 steps\n",
    "    save_total_limit=2,                 # Keep only 2 recent checkpoints\n",
    "    logging_dir=\"./logs\",               # Log to this folder\n",
    "    logging_steps=100,                  # Log every 100 steps\n",
    "    num_train_epochs=10,                 # Number of epochs\n",
    "    fp16=True,                          # Enable mixed-precision training\n",
    "    load_best_model_at_end=True,        # Load the best model based on eval metric\n",
    "    metric_for_best_model=\"wer\",        # Best model based on WER metric\n",
    "    report_to=\"none\",                   # Disable huggingface reporting (for local training)\n",
    ")\n"
   ]
  },
  {
   "cell_type": "code",
   "execution_count": null,
   "id": "fc234412-ba8c-463b-9f9f-e88558247740",
   "metadata": {
    "id": "fc234412-ba8c-463b-9f9f-e88558247740"
   },
   "outputs": [],
   "source": [
    "from transformers import Seq2SeqTrainer\n",
    "import evaluate\n",
    "import random\n",
    "\n",
    "# Define the WER metric\n",
    "wer_metric = evaluate.load(\"wer\")\n",
    "import numpy as np\n",
    "from transformers import Wav2Vec2Processor\n",
    "\n",
    "def compute_metrics(pred):\n",
    "    pred_ids = torch.argmax(torch.tensor(pred.predictions), dim=-1)\n",
    "    pred_str = processor.batch_decode(pred_ids, skip_special_tokens=True)\n",
    "\n",
    "    label_ids = pred.label_ids\n",
    "    label_ids[label_ids == -100] = processor.tokenizer.pad_token_id\n",
    "    label_str = processor.tokenizer.batch_decode(label_ids, skip_special_tokens=True)\n",
    "\n",
    "    # Optional: print a few\n",
    "    i = random.randint(1,199)\n",
    "    print(f\"Prediction {i}: {pred_str[i]}\")\n",
    "\n",
    "    print(f\"Label {i}: {label_str[i]}\")\n",
    "\n",
    "    return {\"wer\": wer_metric.compute(predictions=pred_str, references=label_str)}\n",
    "\n",
    "\n",
    "\n",
    "\n",
    "# Initialize the Trainer\n",
    "trainer = Seq2SeqTrainer(\n",
    "    model=model,                # The model to fine-tune\n",
    "    args=training_args,         # The training arguments\n",
    "    train_dataset=dataset[\"train\"],   # Train dataset\n",
    "    eval_dataset=dataset[\"test\"],    # Evaluation dataset\n",
    "    data_collator=data_collator,     # Data collator\n",
    "    compute_metrics=compute_metrics  # Metrics function (WER)\n",
    "    #label_names=[\"labels\"]\n",
    ")\n",
    "\n",
    "# Train the model\n",
    "trainer.train()\n"
   ]
  },
  {
   "cell_type": "code",
   "execution_count": null,
   "id": "2d5a83ea-11f4-40d8-8354-3a2a660fb51e",
   "metadata": {
    "id": "2d5a83ea-11f4-40d8-8354-3a2a660fb51e"
   },
   "outputs": [],
   "source": [
    "import torchaudio\n",
    "\n",
    "def load_audio(file_path, target_sr=16000):\n",
    "    waveform, sample_rate = torchaudio.load(file_path)\n",
    "    if sample_rate != target_sr:\n",
    "        resampler = torchaudio.transforms.Resample(orig_freq=sample_rate, new_freq=target_sr)\n",
    "        waveform = resampler(waveform)\n",
    "    return waveform.squeeze().numpy()"
   ]
  },
  {
   "cell_type": "code",
   "execution_count": null,
   "id": "25e5a95b-dbec-45fb-95c9-9eabea47e7ea",
   "metadata": {
    "id": "25e5a95b-dbec-45fb-95c9-9eabea47e7ea"
   },
   "outputs": [],
   "source": [
    "def transcribe(file_path):\n",
    "    audio = load_audio(file_path)\n",
    "\n",
    "    # Wav2Vec2 expects a batch of float values (1D tensor)\n",
    "    inputs = processor(audio, sampling_rate=16000, return_tensors=\"pt\", padding=True).to(\"cuda\")\n",
    "\n",
    "    with torch.no_grad():\n",
    "        logits = model(**inputs).logits\n",
    "\n",
    "    predicted_ids = torch.argmax(logits, dim=-1)\n",
    "    transcription = processor.batch_decode(predicted_ids)[0]\n",
    "    return transcription\n"
   ]
  },
  {
   "cell_type": "code",
   "execution_count": null,
   "id": "7cad5fbd-beb0-4b2e-8e24-88186378645c",
   "metadata": {
    "id": "7cad5fbd-beb0-4b2e-8e24-88186378645c",
    "outputId": "b7ace09e-daf4-493a-e505-8bd789bb8067"
   },
   "outputs": [],
   "source": [
    "text = transcribe(\"cv-valid-train/sample-000031.wav\")\n",
    "print(\"Transcription:\", text)\n"
   ]
  },
  {
   "cell_type": "code",
   "execution_count": null,
   "id": "00ea59f8-8061-4432-8a2e-6608fe7e91f9",
   "metadata": {
    "id": "00ea59f8-8061-4432-8a2e-6608fe7e91f9",
    "outputId": "21d9031f-5aa3-4858-bbc2-04fc64b07f0c"
   },
   "outputs": [],
   "source": [
    "from transformers import Wav2Vec2ForCTC, Wav2Vec2Processor\n",
    "\n",
    "model.save_pretrained(\"./wav2vec2-finetuned-commonvoice\")\n",
    "processor.save_pretrained(\"./wav2vec2-finetuned-commonvoice\")\n",
    "\n"
   ]
  },
  {
   "cell_type": "code",
   "execution_count": null,
   "id": "d051929e-9411-4ac6-8747-dcb572398ea6",
   "metadata": {
    "id": "d051929e-9411-4ac6-8747-dcb572398ea6"
   },
   "outputs": [],
   "source": []
  }
 ],
 "metadata": {
  "colab": {
   "provenance": []
  },
  "kernelspec": {
   "display_name": "knn",
   "language": "python",
   "name": "knn"
  },
  "language_info": {
   "codemirror_mode": {
    "name": "ipython",
    "version": 3
   },
   "file_extension": ".py",
   "mimetype": "text/x-python",
   "name": "python",
   "nbconvert_exporter": "python",
   "pygments_lexer": "ipython3",
   "version": "3.12.2"
  }
 },
 "nbformat": 4,
 "nbformat_minor": 5
}
